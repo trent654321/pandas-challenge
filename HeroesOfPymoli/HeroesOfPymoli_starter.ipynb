{
 "cells": [
  {
   "cell_type": "markdown",
   "metadata": {},
   "source": [
    "### Note\n",
    "* Instructions have been included for each segment. You do not have to follow them exactly, but they are included to help you think through the steps."
   ]
  },
  {
   "cell_type": "code",
   "execution_count": 1,
   "metadata": {},
   "outputs": [],
   "source": [
    "# Dependencies and Setup\n",
    "import pandas as pd\n",
    "import os\n",
    "\n",
    "# File to Load (\n",
    "file_to_load = os.path.join(\".\",\"Resources\",\"purchase_data.csv\")\n",
    "\n",
    "# Read Purchasing File and store into Pandas data frame\n",
    "purchase_data = pd.read_csv(file_to_load)"
   ]
  },
  {
   "cell_type": "markdown",
   "metadata": {},
   "source": [
    "## Player Count"
   ]
  },
  {
   "cell_type": "markdown",
   "metadata": {},
   "source": [
    "* Display the total number of players\n"
   ]
  },
  {
   "cell_type": "code",
   "execution_count": 2,
   "metadata": {},
   "outputs": [
    {
     "name": "stdout",
     "output_type": "stream",
     "text": [
      "Total number of players: 576\n"
     ]
    },
    {
     "data": {
      "text/html": [
       "<div>\n",
       "<style scoped>\n",
       "    .dataframe tbody tr th:only-of-type {\n",
       "        vertical-align: middle;\n",
       "    }\n",
       "\n",
       "    .dataframe tbody tr th {\n",
       "        vertical-align: top;\n",
       "    }\n",
       "\n",
       "    .dataframe thead th {\n",
       "        text-align: right;\n",
       "    }\n",
       "</style>\n",
       "<table border=\"1\" class=\"dataframe\">\n",
       "  <thead>\n",
       "    <tr style=\"text-align: right;\">\n",
       "      <th></th>\n",
       "      <th>Purchase ID</th>\n",
       "      <th>SN</th>\n",
       "      <th>Age</th>\n",
       "      <th>Gender</th>\n",
       "      <th>Item ID</th>\n",
       "      <th>Item Name</th>\n",
       "      <th>Price</th>\n",
       "    </tr>\n",
       "  </thead>\n",
       "  <tbody>\n",
       "    <tr>\n",
       "      <th>0</th>\n",
       "      <td>0</td>\n",
       "      <td>Lisim78</td>\n",
       "      <td>20</td>\n",
       "      <td>Male</td>\n",
       "      <td>108</td>\n",
       "      <td>Extraction, Quickblade Of Trembling Hands</td>\n",
       "      <td>3.53</td>\n",
       "    </tr>\n",
       "    <tr>\n",
       "      <th>1</th>\n",
       "      <td>1</td>\n",
       "      <td>Lisovynya38</td>\n",
       "      <td>40</td>\n",
       "      <td>Male</td>\n",
       "      <td>143</td>\n",
       "      <td>Frenzied Scimitar</td>\n",
       "      <td>1.56</td>\n",
       "    </tr>\n",
       "    <tr>\n",
       "      <th>2</th>\n",
       "      <td>2</td>\n",
       "      <td>Ithergue48</td>\n",
       "      <td>24</td>\n",
       "      <td>Male</td>\n",
       "      <td>92</td>\n",
       "      <td>Final Critic</td>\n",
       "      <td>4.88</td>\n",
       "    </tr>\n",
       "    <tr>\n",
       "      <th>3</th>\n",
       "      <td>3</td>\n",
       "      <td>Chamassasya86</td>\n",
       "      <td>24</td>\n",
       "      <td>Male</td>\n",
       "      <td>100</td>\n",
       "      <td>Blindscythe</td>\n",
       "      <td>3.27</td>\n",
       "    </tr>\n",
       "    <tr>\n",
       "      <th>4</th>\n",
       "      <td>4</td>\n",
       "      <td>Iskosia90</td>\n",
       "      <td>23</td>\n",
       "      <td>Male</td>\n",
       "      <td>131</td>\n",
       "      <td>Fury</td>\n",
       "      <td>1.44</td>\n",
       "    </tr>\n",
       "  </tbody>\n",
       "</table>\n",
       "</div>"
      ],
      "text/plain": [
       "   Purchase ID             SN  Age Gender  Item ID  \\\n",
       "0            0        Lisim78   20   Male      108   \n",
       "1            1    Lisovynya38   40   Male      143   \n",
       "2            2     Ithergue48   24   Male       92   \n",
       "3            3  Chamassasya86   24   Male      100   \n",
       "4            4      Iskosia90   23   Male      131   \n",
       "\n",
       "                                   Item Name  Price  \n",
       "0  Extraction, Quickblade Of Trembling Hands   3.53  \n",
       "1                          Frenzied Scimitar   1.56  \n",
       "2                               Final Critic   4.88  \n",
       "3                                Blindscythe   3.27  \n",
       "4                                       Fury   1.44  "
      ]
     },
     "execution_count": 2,
     "metadata": {},
     "output_type": "execute_result"
    }
   ],
   "source": [
    "#Total number of players is the total number of unique values in column \"SN\"\n",
    "print(f'Total number of players: {len(purchase_data[\"SN\"].unique())}')\n",
    "purchase_data.head()"
   ]
  },
  {
   "cell_type": "markdown",
   "metadata": {},
   "source": [
    "## Purchasing Analysis (Total)"
   ]
  },
  {
   "cell_type": "markdown",
   "metadata": {},
   "source": [
    "* Run basic calculations to obtain number of unique items, average price, etc.\n",
    "\n",
    "\n",
    "* Create a summary data frame to hold the results\n",
    "\n",
    "\n",
    "* Optional: give the displayed data cleaner formatting\n",
    "\n",
    "\n",
    "* Display the summary data frame\n"
   ]
  },
  {
   "cell_type": "code",
   "execution_count": 60,
   "metadata": {
    "scrolled": true
   },
   "outputs": [
    {
     "data": {
      "text/html": [
       "<style  type=\"text/css\" >\n",
       "</style><table id=\"T_1426fe20_c65c_11eb_b629_8c8590a56886\" ><thead>    <tr>        <th class=\"blank level0\" ></th>        <th class=\"col_heading level0 col0\" >Number of Unique Items</th>        <th class=\"col_heading level0 col1\" >Average Price</th>        <th class=\"col_heading level0 col2\" >Number of Purchases</th>        <th class=\"col_heading level0 col3\" >Total Revenue</th>    </tr></thead><tbody>\n",
       "                <tr>\n",
       "                        <th id=\"T_1426fe20_c65c_11eb_b629_8c8590a56886level0_row0\" class=\"row_heading level0 row0\" >0</th>\n",
       "                        <td id=\"T_1426fe20_c65c_11eb_b629_8c8590a56886row0_col0\" class=\"data row0 col0\" >179</td>\n",
       "                        <td id=\"T_1426fe20_c65c_11eb_b629_8c8590a56886row0_col1\" class=\"data row0 col1\" >$3.05</td>\n",
       "                        <td id=\"T_1426fe20_c65c_11eb_b629_8c8590a56886row0_col2\" class=\"data row0 col2\" >780</td>\n",
       "                        <td id=\"T_1426fe20_c65c_11eb_b629_8c8590a56886row0_col3\" class=\"data row0 col3\" >$2,379.77</td>\n",
       "            </tr>\n",
       "    </tbody></table>"
      ],
      "text/plain": [
       "<pandas.io.formats.style.Styler at 0x7fda1d179460>"
      ]
     },
     "execution_count": 60,
     "metadata": {},
     "output_type": "execute_result"
    }
   ],
   "source": [
    "unique_items = len(purchase_data[\"Item ID\"].unique())\n",
    "average_price = purchase_data[\"Price\"].mean()\n",
    "purchases = len(purchase_data[\"Purchase ID\"].unique())\n",
    "total_revenue = purchase_data[\"Price\"].sum()\n",
    "summary_df = pd.DataFrame({'Number of Unique Items': [unique_items], 'Average Price': [average_price],'Number of Purchases': [purchases],\n",
    "                 'Total Revenue': [total_revenue]})\n",
    "cleaned_df = summary_df.style.format({'Average Price':'${0:,.2f}','Total Revenue':'${0:,.2f}'})\n",
    "cleaned_df"
   ]
  },
  {
   "cell_type": "markdown",
   "metadata": {},
   "source": [
    "## Gender Demographics"
   ]
  },
  {
   "cell_type": "markdown",
   "metadata": {},
   "source": [
    "* Percentage and Count of Male Players\n",
    "\n",
    "\n",
    "* Percentage and Count of Female Players\n",
    "\n",
    "\n",
    "* Percentage and Count of Other / Non-Disclosed\n",
    "\n",
    "\n"
   ]
  },
  {
   "cell_type": "code",
   "execution_count": 5,
   "metadata": {},
   "outputs": [
    {
     "data": {
      "text/html": [
       "<style  type=\"text/css\" >\n",
       "</style><table id=\"T_28d0ec78_c648_11eb_b629_8c8590a56886\" ><thead>    <tr>        <th class=\"col_heading level0 col0\" >Gender</th>        <th class=\"col_heading level0 col1\" >Total Count</th>        <th class=\"col_heading level0 col2\" >Percentage</th>    </tr></thead><tbody>\n",
       "                <tr>\n",
       "                                <td id=\"T_28d0ec78_c648_11eb_b629_8c8590a56886row0_col0\" class=\"data row0 col0\" >Male</td>\n",
       "                        <td id=\"T_28d0ec78_c648_11eb_b629_8c8590a56886row0_col1\" class=\"data row0 col1\" >484</td>\n",
       "                        <td id=\"T_28d0ec78_c648_11eb_b629_8c8590a56886row0_col2\" class=\"data row0 col2\" >84.03%</td>\n",
       "            </tr>\n",
       "            <tr>\n",
       "                                <td id=\"T_28d0ec78_c648_11eb_b629_8c8590a56886row1_col0\" class=\"data row1 col0\" >Female</td>\n",
       "                        <td id=\"T_28d0ec78_c648_11eb_b629_8c8590a56886row1_col1\" class=\"data row1 col1\" >81</td>\n",
       "                        <td id=\"T_28d0ec78_c648_11eb_b629_8c8590a56886row1_col2\" class=\"data row1 col2\" >14.06%</td>\n",
       "            </tr>\n",
       "            <tr>\n",
       "                                <td id=\"T_28d0ec78_c648_11eb_b629_8c8590a56886row2_col0\" class=\"data row2 col0\" >Other / Non-Disclosed</td>\n",
       "                        <td id=\"T_28d0ec78_c648_11eb_b629_8c8590a56886row2_col1\" class=\"data row2 col1\" >11</td>\n",
       "                        <td id=\"T_28d0ec78_c648_11eb_b629_8c8590a56886row2_col2\" class=\"data row2 col2\" >1.91%</td>\n",
       "            </tr>\n",
       "    </tbody></table>"
      ],
      "text/plain": [
       "<pandas.io.formats.style.Styler at 0x7fda19f20070>"
      ]
     },
     "execution_count": 5,
     "metadata": {},
     "output_type": "execute_result"
    }
   ],
   "source": [
    "summary_df = purchase_data.drop_duplicates(subset='SN').groupby(['Gender']).count().reset_index()\n",
    "summary_df = summary_df[['Gender','SN']].sort_values(by='SN',ascending=False)\n",
    "total = len(purchase_data[\"SN\"].unique())\n",
    "summary_df[\"Percentage\"] = pd.to_numeric(summary_df['SN'])/total\n",
    "summary_df = summary_df.rename(columns={'SN': 'Total Count'})\n",
    "output = summary_df.style.format({'Percentage':'{:.2%}'})\n",
    "output = output.hide_index()\n",
    "output"
   ]
  },
  {
   "cell_type": "markdown",
   "metadata": {},
   "source": [
    "\n",
    "## Purchasing Analysis (Gender)"
   ]
  },
  {
   "cell_type": "markdown",
   "metadata": {},
   "source": [
    "* Run basic calculations to obtain purchase count, avg. purchase price, avg. purchase total per person etc. by gender\n",
    "\n",
    "\n",
    "\n",
    "\n",
    "* Create a summary data frame to hold the results\n",
    "\n",
    "\n",
    "* Optional: give the displayed data cleaner formatting\n",
    "\n",
    "\n",
    "* Display the summary data frame"
   ]
  },
  {
   "cell_type": "code",
   "execution_count": 141,
   "metadata": {},
   "outputs": [
    {
     "data": {
      "text/html": [
       "<style  type=\"text/css\" >\n",
       "</style><table id=\"T_3f2d1e66_c66f_11eb_b629_8c8590a56886\" ><thead>    <tr>        <th class=\"blank level0\" ></th>        <th class=\"col_heading level0 col0\" >Purchase Count</th>        <th class=\"col_heading level0 col1\" >Average Purchase Price</th>        <th class=\"col_heading level0 col2\" >Total Purchase Value</th>        <th class=\"col_heading level0 col3\" >Average Total Purchases per Person</th>    </tr>    <tr>        <th class=\"index_name level0\" >Gender</th>        <th class=\"blank\" ></th>        <th class=\"blank\" ></th>        <th class=\"blank\" ></th>        <th class=\"blank\" ></th>    </tr></thead><tbody>\n",
       "                <tr>\n",
       "                        <th id=\"T_3f2d1e66_c66f_11eb_b629_8c8590a56886level0_row0\" class=\"row_heading level0 row0\" >Female</th>\n",
       "                        <td id=\"T_3f2d1e66_c66f_11eb_b629_8c8590a56886row0_col0\" class=\"data row0 col0\" >113</td>\n",
       "                        <td id=\"T_3f2d1e66_c66f_11eb_b629_8c8590a56886row0_col1\" class=\"data row0 col1\" >$3.20</td>\n",
       "                        <td id=\"T_3f2d1e66_c66f_11eb_b629_8c8590a56886row0_col2\" class=\"data row0 col2\" >$361.94</td>\n",
       "                        <td id=\"T_3f2d1e66_c66f_11eb_b629_8c8590a56886row0_col3\" class=\"data row0 col3\" >$4.47</td>\n",
       "            </tr>\n",
       "            <tr>\n",
       "                        <th id=\"T_3f2d1e66_c66f_11eb_b629_8c8590a56886level0_row1\" class=\"row_heading level0 row1\" >Male</th>\n",
       "                        <td id=\"T_3f2d1e66_c66f_11eb_b629_8c8590a56886row1_col0\" class=\"data row1 col0\" >652</td>\n",
       "                        <td id=\"T_3f2d1e66_c66f_11eb_b629_8c8590a56886row1_col1\" class=\"data row1 col1\" >$3.02</td>\n",
       "                        <td id=\"T_3f2d1e66_c66f_11eb_b629_8c8590a56886row1_col2\" class=\"data row1 col2\" >$1,967.64</td>\n",
       "                        <td id=\"T_3f2d1e66_c66f_11eb_b629_8c8590a56886row1_col3\" class=\"data row1 col3\" >$4.07</td>\n",
       "            </tr>\n",
       "            <tr>\n",
       "                        <th id=\"T_3f2d1e66_c66f_11eb_b629_8c8590a56886level0_row2\" class=\"row_heading level0 row2\" >Other / Non-Disclosed</th>\n",
       "                        <td id=\"T_3f2d1e66_c66f_11eb_b629_8c8590a56886row2_col0\" class=\"data row2 col0\" >15</td>\n",
       "                        <td id=\"T_3f2d1e66_c66f_11eb_b629_8c8590a56886row2_col1\" class=\"data row2 col1\" >$3.35</td>\n",
       "                        <td id=\"T_3f2d1e66_c66f_11eb_b629_8c8590a56886row2_col2\" class=\"data row2 col2\" >$50.19</td>\n",
       "                        <td id=\"T_3f2d1e66_c66f_11eb_b629_8c8590a56886row2_col3\" class=\"data row2 col3\" >$4.56</td>\n",
       "            </tr>\n",
       "    </tbody></table>"
      ],
      "text/plain": [
       "<pandas.io.formats.style.Styler at 0x7fda1d3bd6d0>"
      ]
     },
     "execution_count": 141,
     "metadata": {},
     "output_type": "execute_result"
    }
   ],
   "source": [
    "#Get dataframes for count, sum and average, and unique people format them, rename them and merge them, calculate the average per person and format the output\n",
    "count_df= purchase_data.groupby(['Gender']).count().reset_index()\n",
    "count_df = count_df[['Gender','Purchase ID']]\n",
    "count_df.rename(columns={'Purchase ID': 'Purchase Count'},inplace=True)\n",
    "sum_df = purchase_data.groupby(['Gender']).sum().reset_index()\n",
    "sum_df = sum_df[['Gender','Price']]\n",
    "sum_df.rename(columns={'Price': 'Total Purchase Value'},inplace=True)\n",
    "mean_df = purchase_data.groupby(['Gender']).mean().reset_index()\n",
    "mean_df = mean_df[['Gender','Price']]\n",
    "mean_df.rename(columns={'Price': 'Average Purchase Price'},inplace=True)\n",
    "average_person_df = purchase_data.drop_duplicates(subset='SN').groupby(['Gender']).count().reset_index()\n",
    "average_person_df = average_person_df[['Gender','SN']]\n",
    "average_person_df.rename(columns={'SN': 'Total people'},inplace=True)\n",
    "summary_df = ((count_df.merge(mean_df,on='Gender')).merge(sum_df,on='Gender')).merge(average_person_df,on='Gender')\n",
    "summary_df['Average Total Purchases per Person'] = summary_df['Total Purchase Value']/summary_df['Total people']\n",
    "summary_df = summary_df.drop(['Total people'],axis=1)\n",
    "summary_df.set_index('Gender',inplace=True)\n",
    "cleaned_df = summary_df.style.format({'Average Purchase Price':'${0:,.2f}','Total Purchase Value':'${0:,.2f}','Average Total Purchases per Person':'${0:,.2f}'})\n",
    "cleaned_df"
   ]
  },
  {
   "cell_type": "markdown",
   "metadata": {},
   "source": [
    "## Age Demographics"
   ]
  },
  {
   "cell_type": "markdown",
   "metadata": {},
   "source": [
    "* Establish bins for ages\n",
    "\n",
    "\n",
    "* Categorize the existing players using the age bins. Hint: use pd.cut()\n",
    "\n",
    "\n",
    "* Calculate the numbers and percentages by age group\n",
    "\n",
    "\n",
    "* Create a summary data frame to hold the results\n",
    "\n",
    "\n",
    "* Optional: round the percentage column to two decimal points\n",
    "\n",
    "\n",
    "* Display Age Demographics Table\n"
   ]
  },
  {
   "cell_type": "code",
   "execution_count": 142,
   "metadata": {},
   "outputs": [
    {
     "data": {
      "text/html": [
       "<style  type=\"text/css\" >\n",
       "</style><table id=\"T_442bcb7e_c66f_11eb_b629_8c8590a56886\" ><thead>    <tr>        <th class=\"blank level0\" ></th>        <th class=\"col_heading level0 col0\" >Age</th>        <th class=\"col_heading level0 col1\" >Total Count</th>        <th class=\"col_heading level0 col2\" >Percentage of Players</th>    </tr></thead><tbody>\n",
       "                <tr>\n",
       "                        <th id=\"T_442bcb7e_c66f_11eb_b629_8c8590a56886level0_row0\" class=\"row_heading level0 row0\" >0</th>\n",
       "                        <td id=\"T_442bcb7e_c66f_11eb_b629_8c8590a56886row0_col0\" class=\"data row0 col0\" ><10</td>\n",
       "                        <td id=\"T_442bcb7e_c66f_11eb_b629_8c8590a56886row0_col1\" class=\"data row0 col1\" >17</td>\n",
       "                        <td id=\"T_442bcb7e_c66f_11eb_b629_8c8590a56886row0_col2\" class=\"data row0 col2\" >2.95%</td>\n",
       "            </tr>\n",
       "            <tr>\n",
       "                        <th id=\"T_442bcb7e_c66f_11eb_b629_8c8590a56886level0_row1\" class=\"row_heading level0 row1\" >1</th>\n",
       "                        <td id=\"T_442bcb7e_c66f_11eb_b629_8c8590a56886row1_col0\" class=\"data row1 col0\" >10-14</td>\n",
       "                        <td id=\"T_442bcb7e_c66f_11eb_b629_8c8590a56886row1_col1\" class=\"data row1 col1\" >22</td>\n",
       "                        <td id=\"T_442bcb7e_c66f_11eb_b629_8c8590a56886row1_col2\" class=\"data row1 col2\" >3.82%</td>\n",
       "            </tr>\n",
       "            <tr>\n",
       "                        <th id=\"T_442bcb7e_c66f_11eb_b629_8c8590a56886level0_row2\" class=\"row_heading level0 row2\" >2</th>\n",
       "                        <td id=\"T_442bcb7e_c66f_11eb_b629_8c8590a56886row2_col0\" class=\"data row2 col0\" >15-19</td>\n",
       "                        <td id=\"T_442bcb7e_c66f_11eb_b629_8c8590a56886row2_col1\" class=\"data row2 col1\" >107</td>\n",
       "                        <td id=\"T_442bcb7e_c66f_11eb_b629_8c8590a56886row2_col2\" class=\"data row2 col2\" >18.58%</td>\n",
       "            </tr>\n",
       "            <tr>\n",
       "                        <th id=\"T_442bcb7e_c66f_11eb_b629_8c8590a56886level0_row3\" class=\"row_heading level0 row3\" >3</th>\n",
       "                        <td id=\"T_442bcb7e_c66f_11eb_b629_8c8590a56886row3_col0\" class=\"data row3 col0\" >20-24</td>\n",
       "                        <td id=\"T_442bcb7e_c66f_11eb_b629_8c8590a56886row3_col1\" class=\"data row3 col1\" >258</td>\n",
       "                        <td id=\"T_442bcb7e_c66f_11eb_b629_8c8590a56886row3_col2\" class=\"data row3 col2\" >44.79%</td>\n",
       "            </tr>\n",
       "            <tr>\n",
       "                        <th id=\"T_442bcb7e_c66f_11eb_b629_8c8590a56886level0_row4\" class=\"row_heading level0 row4\" >4</th>\n",
       "                        <td id=\"T_442bcb7e_c66f_11eb_b629_8c8590a56886row4_col0\" class=\"data row4 col0\" >25-29</td>\n",
       "                        <td id=\"T_442bcb7e_c66f_11eb_b629_8c8590a56886row4_col1\" class=\"data row4 col1\" >77</td>\n",
       "                        <td id=\"T_442bcb7e_c66f_11eb_b629_8c8590a56886row4_col2\" class=\"data row4 col2\" >13.37%</td>\n",
       "            </tr>\n",
       "            <tr>\n",
       "                        <th id=\"T_442bcb7e_c66f_11eb_b629_8c8590a56886level0_row5\" class=\"row_heading level0 row5\" >5</th>\n",
       "                        <td id=\"T_442bcb7e_c66f_11eb_b629_8c8590a56886row5_col0\" class=\"data row5 col0\" >30-34</td>\n",
       "                        <td id=\"T_442bcb7e_c66f_11eb_b629_8c8590a56886row5_col1\" class=\"data row5 col1\" >52</td>\n",
       "                        <td id=\"T_442bcb7e_c66f_11eb_b629_8c8590a56886row5_col2\" class=\"data row5 col2\" >9.03%</td>\n",
       "            </tr>\n",
       "            <tr>\n",
       "                        <th id=\"T_442bcb7e_c66f_11eb_b629_8c8590a56886level0_row6\" class=\"row_heading level0 row6\" >6</th>\n",
       "                        <td id=\"T_442bcb7e_c66f_11eb_b629_8c8590a56886row6_col0\" class=\"data row6 col0\" >35-39</td>\n",
       "                        <td id=\"T_442bcb7e_c66f_11eb_b629_8c8590a56886row6_col1\" class=\"data row6 col1\" >31</td>\n",
       "                        <td id=\"T_442bcb7e_c66f_11eb_b629_8c8590a56886row6_col2\" class=\"data row6 col2\" >5.38%</td>\n",
       "            </tr>\n",
       "            <tr>\n",
       "                        <th id=\"T_442bcb7e_c66f_11eb_b629_8c8590a56886level0_row7\" class=\"row_heading level0 row7\" >7</th>\n",
       "                        <td id=\"T_442bcb7e_c66f_11eb_b629_8c8590a56886row7_col0\" class=\"data row7 col0\" >40+</td>\n",
       "                        <td id=\"T_442bcb7e_c66f_11eb_b629_8c8590a56886row7_col1\" class=\"data row7 col1\" >12</td>\n",
       "                        <td id=\"T_442bcb7e_c66f_11eb_b629_8c8590a56886row7_col2\" class=\"data row7 col2\" >2.08%</td>\n",
       "            </tr>\n",
       "    </tbody></table>"
      ],
      "text/plain": [
       "<pandas.io.formats.style.Styler at 0x7fda1b478370>"
      ]
     },
     "execution_count": 142,
     "metadata": {},
     "output_type": "execute_result"
    }
   ],
   "source": [
    "age_df = purchase_data.drop_duplicates(subset='SN')['Age']\n",
    "total_players = len(age_df)\n",
    "bins = [0,9,14,19,24,29,34,39,100]\n",
    "labels = ['<10','10-14','15-19','20-24','25-29','30-34','35-39','40+']\n",
    "age_bins = pd.cut(age_df, bins,labels=labels,include_lowest=True,right=True,ordered=True)\n",
    "age_bins = pd.DataFrame(age_bins.groupby(age_bins).count())\n",
    "age_bins.rename(columns={'Age':'Total Count'},inplace=True)\n",
    "age_bins.reset_index(inplace=True)\n",
    "age_bins['Percentage of Players'] = age_bins['Total Count']/total_players\n",
    "for_later= age_bins\n",
    "cleaned_df = age_bins.style.format({'Percentage of Players':'{:.2%}'})\n",
    "cleaned_df"
   ]
  },
  {
   "cell_type": "markdown",
   "metadata": {},
   "source": [
    "## Purchasing Analysis (Age)"
   ]
  },
  {
   "cell_type": "markdown",
   "metadata": {},
   "source": [
    "* Bin the purchase_data data frame by age\n",
    "\n",
    "\n",
    "* Run basic calculations to obtain purchase count, avg. purchase price, avg. purchase total per person etc. in the table below\n",
    "\n",
    "\n",
    "* Create a summary data frame to hold the results\n",
    "\n",
    "\n",
    "* Optional: give the displayed data cleaner formatting\n",
    "\n",
    "\n",
    "* Display the summary data frame"
   ]
  },
  {
   "cell_type": "code",
   "execution_count": 161,
   "metadata": {},
   "outputs": [
    {
     "data": {
      "text/html": [
       "<style  type=\"text/css\" >\n",
       "</style><table id=\"T_ee4ae526_c670_11eb_b629_8c8590a56886\" ><thead>    <tr>        <th class=\"blank level0\" ></th>        <th class=\"col_heading level0 col0\" >Bin</th>        <th class=\"col_heading level0 col1\" >Purchase Count</th>        <th class=\"col_heading level0 col2\" >Average Purchase Price</th>        <th class=\"col_heading level0 col3\" >Total Purchase Value</th>        <th class=\"col_heading level0 col4\" >Avg Total Purchase per Person</th>    </tr></thead><tbody>\n",
       "                <tr>\n",
       "                        <th id=\"T_ee4ae526_c670_11eb_b629_8c8590a56886level0_row0\" class=\"row_heading level0 row0\" >0</th>\n",
       "                        <td id=\"T_ee4ae526_c670_11eb_b629_8c8590a56886row0_col0\" class=\"data row0 col0\" ><10</td>\n",
       "                        <td id=\"T_ee4ae526_c670_11eb_b629_8c8590a56886row0_col1\" class=\"data row0 col1\" >23</td>\n",
       "                        <td id=\"T_ee4ae526_c670_11eb_b629_8c8590a56886row0_col2\" class=\"data row0 col2\" >$3.35</td>\n",
       "                        <td id=\"T_ee4ae526_c670_11eb_b629_8c8590a56886row0_col3\" class=\"data row0 col3\" >$77.13</td>\n",
       "                        <td id=\"T_ee4ae526_c670_11eb_b629_8c8590a56886row0_col4\" class=\"data row0 col4\" >$4.54</td>\n",
       "            </tr>\n",
       "            <tr>\n",
       "                        <th id=\"T_ee4ae526_c670_11eb_b629_8c8590a56886level0_row1\" class=\"row_heading level0 row1\" >1</th>\n",
       "                        <td id=\"T_ee4ae526_c670_11eb_b629_8c8590a56886row1_col0\" class=\"data row1 col0\" >10-14</td>\n",
       "                        <td id=\"T_ee4ae526_c670_11eb_b629_8c8590a56886row1_col1\" class=\"data row1 col1\" >28</td>\n",
       "                        <td id=\"T_ee4ae526_c670_11eb_b629_8c8590a56886row1_col2\" class=\"data row1 col2\" >$2.96</td>\n",
       "                        <td id=\"T_ee4ae526_c670_11eb_b629_8c8590a56886row1_col3\" class=\"data row1 col3\" >$82.78</td>\n",
       "                        <td id=\"T_ee4ae526_c670_11eb_b629_8c8590a56886row1_col4\" class=\"data row1 col4\" >$3.76</td>\n",
       "            </tr>\n",
       "            <tr>\n",
       "                        <th id=\"T_ee4ae526_c670_11eb_b629_8c8590a56886level0_row2\" class=\"row_heading level0 row2\" >2</th>\n",
       "                        <td id=\"T_ee4ae526_c670_11eb_b629_8c8590a56886row2_col0\" class=\"data row2 col0\" >15-19</td>\n",
       "                        <td id=\"T_ee4ae526_c670_11eb_b629_8c8590a56886row2_col1\" class=\"data row2 col1\" >136</td>\n",
       "                        <td id=\"T_ee4ae526_c670_11eb_b629_8c8590a56886row2_col2\" class=\"data row2 col2\" >$3.04</td>\n",
       "                        <td id=\"T_ee4ae526_c670_11eb_b629_8c8590a56886row2_col3\" class=\"data row2 col3\" >$412.89</td>\n",
       "                        <td id=\"T_ee4ae526_c670_11eb_b629_8c8590a56886row2_col4\" class=\"data row2 col4\" >$3.86</td>\n",
       "            </tr>\n",
       "            <tr>\n",
       "                        <th id=\"T_ee4ae526_c670_11eb_b629_8c8590a56886level0_row3\" class=\"row_heading level0 row3\" >3</th>\n",
       "                        <td id=\"T_ee4ae526_c670_11eb_b629_8c8590a56886row3_col0\" class=\"data row3 col0\" >20-24</td>\n",
       "                        <td id=\"T_ee4ae526_c670_11eb_b629_8c8590a56886row3_col1\" class=\"data row3 col1\" >365</td>\n",
       "                        <td id=\"T_ee4ae526_c670_11eb_b629_8c8590a56886row3_col2\" class=\"data row3 col2\" >$3.05</td>\n",
       "                        <td id=\"T_ee4ae526_c670_11eb_b629_8c8590a56886row3_col3\" class=\"data row3 col3\" >$1,114.06</td>\n",
       "                        <td id=\"T_ee4ae526_c670_11eb_b629_8c8590a56886row3_col4\" class=\"data row3 col4\" >$4.32</td>\n",
       "            </tr>\n",
       "            <tr>\n",
       "                        <th id=\"T_ee4ae526_c670_11eb_b629_8c8590a56886level0_row4\" class=\"row_heading level0 row4\" >4</th>\n",
       "                        <td id=\"T_ee4ae526_c670_11eb_b629_8c8590a56886row4_col0\" class=\"data row4 col0\" >25-29</td>\n",
       "                        <td id=\"T_ee4ae526_c670_11eb_b629_8c8590a56886row4_col1\" class=\"data row4 col1\" >101</td>\n",
       "                        <td id=\"T_ee4ae526_c670_11eb_b629_8c8590a56886row4_col2\" class=\"data row4 col2\" >$2.90</td>\n",
       "                        <td id=\"T_ee4ae526_c670_11eb_b629_8c8590a56886row4_col3\" class=\"data row4 col3\" >$293.00</td>\n",
       "                        <td id=\"T_ee4ae526_c670_11eb_b629_8c8590a56886row4_col4\" class=\"data row4 col4\" >$3.81</td>\n",
       "            </tr>\n",
       "            <tr>\n",
       "                        <th id=\"T_ee4ae526_c670_11eb_b629_8c8590a56886level0_row5\" class=\"row_heading level0 row5\" >5</th>\n",
       "                        <td id=\"T_ee4ae526_c670_11eb_b629_8c8590a56886row5_col0\" class=\"data row5 col0\" >30-34</td>\n",
       "                        <td id=\"T_ee4ae526_c670_11eb_b629_8c8590a56886row5_col1\" class=\"data row5 col1\" >73</td>\n",
       "                        <td id=\"T_ee4ae526_c670_11eb_b629_8c8590a56886row5_col2\" class=\"data row5 col2\" >$2.93</td>\n",
       "                        <td id=\"T_ee4ae526_c670_11eb_b629_8c8590a56886row5_col3\" class=\"data row5 col3\" >$214.00</td>\n",
       "                        <td id=\"T_ee4ae526_c670_11eb_b629_8c8590a56886row5_col4\" class=\"data row5 col4\" >$4.12</td>\n",
       "            </tr>\n",
       "            <tr>\n",
       "                        <th id=\"T_ee4ae526_c670_11eb_b629_8c8590a56886level0_row6\" class=\"row_heading level0 row6\" >6</th>\n",
       "                        <td id=\"T_ee4ae526_c670_11eb_b629_8c8590a56886row6_col0\" class=\"data row6 col0\" >35-39</td>\n",
       "                        <td id=\"T_ee4ae526_c670_11eb_b629_8c8590a56886row6_col1\" class=\"data row6 col1\" >41</td>\n",
       "                        <td id=\"T_ee4ae526_c670_11eb_b629_8c8590a56886row6_col2\" class=\"data row6 col2\" >$3.60</td>\n",
       "                        <td id=\"T_ee4ae526_c670_11eb_b629_8c8590a56886row6_col3\" class=\"data row6 col3\" >$147.67</td>\n",
       "                        <td id=\"T_ee4ae526_c670_11eb_b629_8c8590a56886row6_col4\" class=\"data row6 col4\" >$4.76</td>\n",
       "            </tr>\n",
       "            <tr>\n",
       "                        <th id=\"T_ee4ae526_c670_11eb_b629_8c8590a56886level0_row7\" class=\"row_heading level0 row7\" >7</th>\n",
       "                        <td id=\"T_ee4ae526_c670_11eb_b629_8c8590a56886row7_col0\" class=\"data row7 col0\" >40+</td>\n",
       "                        <td id=\"T_ee4ae526_c670_11eb_b629_8c8590a56886row7_col1\" class=\"data row7 col1\" >13</td>\n",
       "                        <td id=\"T_ee4ae526_c670_11eb_b629_8c8590a56886row7_col2\" class=\"data row7 col2\" >$2.94</td>\n",
       "                        <td id=\"T_ee4ae526_c670_11eb_b629_8c8590a56886row7_col3\" class=\"data row7 col3\" >$38.24</td>\n",
       "                        <td id=\"T_ee4ae526_c670_11eb_b629_8c8590a56886row7_col4\" class=\"data row7 col4\" >$3.19</td>\n",
       "            </tr>\n",
       "    </tbody></table>"
      ],
      "text/plain": [
       "<pandas.io.formats.style.Styler at 0x7fda1d41fdc0>"
      ]
     },
     "execution_count": 161,
     "metadata": {},
     "output_type": "execute_result"
    }
   ],
   "source": [
    "bins = [0,9,14,19,24,29,34,39,100]\n",
    "labels = ['<10','10-14','15-19','20-24','25-29','30-34','35-39','40+']\n",
    "age_bins = purchase_data\n",
    "age_bins['Bin']=pd.cut(purchase_data['Age'], bins,labels=labels,include_lowest=True,right=True,ordered=True)\n",
    "count_df = age_bins.groupby(['Bin']).count().reset_index()\n",
    "count_df = count_df[['Bin','Purchase ID']]\n",
    "count_df.rename(columns={'Purchase ID': 'Purchase Count'},inplace=True)\n",
    "mean_df = age_bins.groupby(['Bin']).mean().reset_index()\n",
    "mean_df = mean_df[['Bin','Price']]\n",
    "mean_df.rename(columns={'Price': 'Average Purchase Price'},inplace=True)\n",
    "\n",
    "sum_df = age_bins.groupby(['Bin']).sum().reset_index()\n",
    "sum_df = sum_df[['Bin','Price']]\n",
    "sum_df.rename(columns={'Price': 'Total Purchase Value'},inplace=True)\n",
    "#variable is from an earlier code block\n",
    "unique_bins= for_later\n",
    "unique_bins = unique_bins[['Age','Total Count']]\n",
    "unique_bins = unique_bins.rename(columns={'Age':'Bin'})\n",
    "summary_df = count_df.merge(mean_df,on='Bin')\n",
    "summary_df = summary_df.merge(sum_df,on='Bin')\n",
    "summary_df = summary_df.merge(unique_bins,how='left',on='Bin')\n",
    "summary_df['Avg Total Purchase per Person']=summary_df['Total Purchase Value']/summary_df['Total Count']\n",
    "summary_df = summary_df.drop(columns=['Total Count'])\n",
    "cleaned_df = summary_df.style.format({'Average Purchase Price':'${0:,.2f}','Total Purchase Value':'${0:,.2f}','Avg Total Purchase per Person':'${0:,.2f}'})\n",
    "cleaned_df\n",
    "\n"
   ]
  },
  {
   "cell_type": "markdown",
   "metadata": {},
   "source": [
    "## Top Spenders"
   ]
  },
  {
   "cell_type": "markdown",
   "metadata": {},
   "source": [
    "* Run basic calculations to obtain the results in the table below\n",
    "\n",
    "\n",
    "* Create a summary data frame to hold the results\n",
    "\n",
    "\n",
    "* Sort the total purchase value column in descending order\n",
    "\n",
    "\n",
    "* Optional: give the displayed data cleaner formatting\n",
    "\n",
    "\n",
    "* Display a preview of the summary data frame\n",
    "\n"
   ]
  },
  {
   "cell_type": "code",
   "execution_count": 173,
   "metadata": {},
   "outputs": [
    {
     "data": {
      "text/html": [
       "<style  type=\"text/css\" >\n",
       "</style><table id=\"T_d12d9bb2_c672_11eb_b629_8c8590a56886\" ><thead>    <tr>        <th class=\"blank level0\" ></th>        <th class=\"col_heading level0 col0\" >SN</th>        <th class=\"col_heading level0 col1\" >Purchase Count</th>        <th class=\"col_heading level0 col2\" >Average Purchase Price</th>        <th class=\"col_heading level0 col3\" >Total Purchase Value</th>    </tr></thead><tbody>\n",
       "                <tr>\n",
       "                        <th id=\"T_d12d9bb2_c672_11eb_b629_8c8590a56886level0_row0\" class=\"row_heading level0 row0\" >360</th>\n",
       "                        <td id=\"T_d12d9bb2_c672_11eb_b629_8c8590a56886row0_col0\" class=\"data row0 col0\" >Lisosia93</td>\n",
       "                        <td id=\"T_d12d9bb2_c672_11eb_b629_8c8590a56886row0_col1\" class=\"data row0 col1\" >5</td>\n",
       "                        <td id=\"T_d12d9bb2_c672_11eb_b629_8c8590a56886row0_col2\" class=\"data row0 col2\" >$3.79</td>\n",
       "                        <td id=\"T_d12d9bb2_c672_11eb_b629_8c8590a56886row0_col3\" class=\"data row0 col3\" >$18.96</td>\n",
       "            </tr>\n",
       "            <tr>\n",
       "                        <th id=\"T_d12d9bb2_c672_11eb_b629_8c8590a56886level0_row1\" class=\"row_heading level0 row1\" >246</th>\n",
       "                        <td id=\"T_d12d9bb2_c672_11eb_b629_8c8590a56886row1_col0\" class=\"data row1 col0\" >Idastidru52</td>\n",
       "                        <td id=\"T_d12d9bb2_c672_11eb_b629_8c8590a56886row1_col1\" class=\"data row1 col1\" >4</td>\n",
       "                        <td id=\"T_d12d9bb2_c672_11eb_b629_8c8590a56886row1_col2\" class=\"data row1 col2\" >$3.86</td>\n",
       "                        <td id=\"T_d12d9bb2_c672_11eb_b629_8c8590a56886row1_col3\" class=\"data row1 col3\" >$15.45</td>\n",
       "            </tr>\n",
       "            <tr>\n",
       "                        <th id=\"T_d12d9bb2_c672_11eb_b629_8c8590a56886level0_row2\" class=\"row_heading level0 row2\" >106</th>\n",
       "                        <td id=\"T_d12d9bb2_c672_11eb_b629_8c8590a56886row2_col0\" class=\"data row2 col0\" >Chamjask73</td>\n",
       "                        <td id=\"T_d12d9bb2_c672_11eb_b629_8c8590a56886row2_col1\" class=\"data row2 col1\" >3</td>\n",
       "                        <td id=\"T_d12d9bb2_c672_11eb_b629_8c8590a56886row2_col2\" class=\"data row2 col2\" >$4.61</td>\n",
       "                        <td id=\"T_d12d9bb2_c672_11eb_b629_8c8590a56886row2_col3\" class=\"data row2 col3\" >$13.83</td>\n",
       "            </tr>\n",
       "            <tr>\n",
       "                        <th id=\"T_d12d9bb2_c672_11eb_b629_8c8590a56886level0_row3\" class=\"row_heading level0 row3\" >275</th>\n",
       "                        <td id=\"T_d12d9bb2_c672_11eb_b629_8c8590a56886row3_col0\" class=\"data row3 col0\" >Iral74</td>\n",
       "                        <td id=\"T_d12d9bb2_c672_11eb_b629_8c8590a56886row3_col1\" class=\"data row3 col1\" >4</td>\n",
       "                        <td id=\"T_d12d9bb2_c672_11eb_b629_8c8590a56886row3_col2\" class=\"data row3 col2\" >$3.40</td>\n",
       "                        <td id=\"T_d12d9bb2_c672_11eb_b629_8c8590a56886row3_col3\" class=\"data row3 col3\" >$13.62</td>\n",
       "            </tr>\n",
       "            <tr>\n",
       "                        <th id=\"T_d12d9bb2_c672_11eb_b629_8c8590a56886level0_row4\" class=\"row_heading level0 row4\" >281</th>\n",
       "                        <td id=\"T_d12d9bb2_c672_11eb_b629_8c8590a56886row4_col0\" class=\"data row4 col0\" >Iskadarya95</td>\n",
       "                        <td id=\"T_d12d9bb2_c672_11eb_b629_8c8590a56886row4_col1\" class=\"data row4 col1\" >3</td>\n",
       "                        <td id=\"T_d12d9bb2_c672_11eb_b629_8c8590a56886row4_col2\" class=\"data row4 col2\" >$4.37</td>\n",
       "                        <td id=\"T_d12d9bb2_c672_11eb_b629_8c8590a56886row4_col3\" class=\"data row4 col3\" >$13.10</td>\n",
       "            </tr>\n",
       "    </tbody></table>"
      ],
      "text/plain": [
       "<pandas.io.formats.style.Styler at 0x7fda1d3bde80>"
      ]
     },
     "execution_count": 173,
     "metadata": {},
     "output_type": "execute_result"
    }
   ],
   "source": [
    "count_df= purchase_data.groupby(['SN']).count().reset_index()\n",
    "count_df = count_df[['SN','Purchase ID']]\n",
    "count_df.rename(columns={'Purchase ID': 'Purchase Count'},inplace=True)\n",
    "sum_df = purchase_data.groupby(['SN']).sum().reset_index()\n",
    "sum_df = sum_df[['SN','Price']]\n",
    "sum_df.rename(columns={'Price': 'Total Purchase Value'},inplace=True)\n",
    "mean_df = purchase_data.groupby(['SN']).mean().reset_index()\n",
    "mean_df = mean_df[['SN','Price']]\n",
    "mean_df.rename(columns={'Price': 'Average Purchase Price'},inplace=True)\n",
    "merged_df = count_df.merge(mean_df,on='SN')\n",
    "merged_df = merged_df.merge(sum_df,on='SN')\n",
    "merged_df = merged_df.sort_values(by=['Total Purchase Value'],ascending=False)\n",
    "cleaned_data = merged_df.head(5).style.format({'Average Purchase Price':'${0:,.2f}','Total Purchase Value':'${0:,.2f}'})\n",
    "cleaned_data"
   ]
  },
  {
   "cell_type": "markdown",
   "metadata": {},
   "source": [
    "## Most Popular Items"
   ]
  },
  {
   "cell_type": "markdown",
   "metadata": {},
   "source": [
    "* Retrieve the Item ID, Item Name, and Item Price columns\n",
    "\n",
    "\n",
    "* Group by Item ID and Item Name. Perform calculations to obtain purchase count, average item price, and total purchase value\n",
    "\n",
    "\n",
    "* Create a summary data frame to hold the results\n",
    "\n",
    "\n",
    "* Sort the purchase count column in descending order\n",
    "\n",
    "\n",
    "* Optional: give the displayed data cleaner formatting\n",
    "\n",
    "\n",
    "* Display a preview of the summary data frame\n",
    "\n"
   ]
  },
  {
   "cell_type": "code",
   "execution_count": 194,
   "metadata": {},
   "outputs": [
    {
     "data": {
      "text/html": [
       "<style  type=\"text/css\" >\n",
       "</style><table id=\"T_5394153c_c677_11eb_b629_8c8590a56886\" ><thead>    <tr>        <th class=\"blank level0\" ></th>        <th class=\"col_heading level0 col0\" >Item ID</th>        <th class=\"col_heading level0 col1\" >Item Name</th>        <th class=\"col_heading level0 col2\" >Price</th>        <th class=\"col_heading level0 col3\" >Purchase Count</th>        <th class=\"col_heading level0 col4\" >Total Purchase Value</th>    </tr></thead><tbody>\n",
       "                <tr>\n",
       "                        <th id=\"T_5394153c_c677_11eb_b629_8c8590a56886level0_row0\" class=\"row_heading level0 row0\" >2</th>\n",
       "                        <td id=\"T_5394153c_c677_11eb_b629_8c8590a56886row0_col0\" class=\"data row0 col0\" >92</td>\n",
       "                        <td id=\"T_5394153c_c677_11eb_b629_8c8590a56886row0_col1\" class=\"data row0 col1\" >Final Critic</td>\n",
       "                        <td id=\"T_5394153c_c677_11eb_b629_8c8590a56886row0_col2\" class=\"data row0 col2\" >$4.88</td>\n",
       "                        <td id=\"T_5394153c_c677_11eb_b629_8c8590a56886row0_col3\" class=\"data row0 col3\" >13</td>\n",
       "                        <td id=\"T_5394153c_c677_11eb_b629_8c8590a56886row0_col4\" class=\"data row0 col4\" >$59.99</td>\n",
       "            </tr>\n",
       "            <tr>\n",
       "                        <th id=\"T_5394153c_c677_11eb_b629_8c8590a56886level0_row1\" class=\"row_heading level0 row1\" >24</th>\n",
       "                        <td id=\"T_5394153c_c677_11eb_b629_8c8590a56886row1_col0\" class=\"data row1 col0\" >178</td>\n",
       "                        <td id=\"T_5394153c_c677_11eb_b629_8c8590a56886row1_col1\" class=\"data row1 col1\" >Oathbreaker, Last Hope of the Breaking Storm</td>\n",
       "                        <td id=\"T_5394153c_c677_11eb_b629_8c8590a56886row1_col2\" class=\"data row1 col2\" >$4.23</td>\n",
       "                        <td id=\"T_5394153c_c677_11eb_b629_8c8590a56886row1_col3\" class=\"data row1 col3\" >12</td>\n",
       "                        <td id=\"T_5394153c_c677_11eb_b629_8c8590a56886row1_col4\" class=\"data row1 col4\" >$50.76</td>\n",
       "            </tr>\n",
       "            <tr>\n",
       "                        <th id=\"T_5394153c_c677_11eb_b629_8c8590a56886level0_row2\" class=\"row_heading level0 row2\" >0</th>\n",
       "                        <td id=\"T_5394153c_c677_11eb_b629_8c8590a56886row2_col0\" class=\"data row2 col0\" >108</td>\n",
       "                        <td id=\"T_5394153c_c677_11eb_b629_8c8590a56886row2_col1\" class=\"data row2 col1\" >Extraction, Quickblade Of Trembling Hands</td>\n",
       "                        <td id=\"T_5394153c_c677_11eb_b629_8c8590a56886row2_col2\" class=\"data row2 col2\" >$3.53</td>\n",
       "                        <td id=\"T_5394153c_c677_11eb_b629_8c8590a56886row2_col3\" class=\"data row2 col3\" >9</td>\n",
       "                        <td id=\"T_5394153c_c677_11eb_b629_8c8590a56886row2_col4\" class=\"data row2 col4\" >$31.77</td>\n",
       "            </tr>\n",
       "            <tr>\n",
       "                        <th id=\"T_5394153c_c677_11eb_b629_8c8590a56886level0_row3\" class=\"row_heading level0 row3\" >17</th>\n",
       "                        <td id=\"T_5394153c_c677_11eb_b629_8c8590a56886row3_col0\" class=\"data row3 col0\" >82</td>\n",
       "                        <td id=\"T_5394153c_c677_11eb_b629_8c8590a56886row3_col1\" class=\"data row3 col1\" >Nirvana</td>\n",
       "                        <td id=\"T_5394153c_c677_11eb_b629_8c8590a56886row3_col2\" class=\"data row3 col2\" >$4.90</td>\n",
       "                        <td id=\"T_5394153c_c677_11eb_b629_8c8590a56886row3_col3\" class=\"data row3 col3\" >9</td>\n",
       "                        <td id=\"T_5394153c_c677_11eb_b629_8c8590a56886row3_col4\" class=\"data row3 col4\" >$44.10</td>\n",
       "            </tr>\n",
       "            <tr>\n",
       "                        <th id=\"T_5394153c_c677_11eb_b629_8c8590a56886level0_row4\" class=\"row_heading level0 row4\" >93</th>\n",
       "                        <td id=\"T_5394153c_c677_11eb_b629_8c8590a56886row4_col0\" class=\"data row4 col0\" >145</td>\n",
       "                        <td id=\"T_5394153c_c677_11eb_b629_8c8590a56886row4_col1\" class=\"data row4 col1\" >Fiery Glass Crusader</td>\n",
       "                        <td id=\"T_5394153c_c677_11eb_b629_8c8590a56886row4_col2\" class=\"data row4 col2\" >$4.58</td>\n",
       "                        <td id=\"T_5394153c_c677_11eb_b629_8c8590a56886row4_col3\" class=\"data row4 col3\" >9</td>\n",
       "                        <td id=\"T_5394153c_c677_11eb_b629_8c8590a56886row4_col4\" class=\"data row4 col4\" >$41.22</td>\n",
       "            </tr>\n",
       "    </tbody></table>"
      ],
      "text/plain": [
       "<pandas.io.formats.style.Styler at 0x7fda1d3b8d90>"
      ]
     },
     "execution_count": 194,
     "metadata": {},
     "output_type": "execute_result"
    }
   ],
   "source": [
    "items_df=purchase_data[['Item ID','Item Name','Price']]\n",
    "no_dupes = items_df.drop_duplicates(subset=['Item ID'])\n",
    "count_df= items_df.groupby(['Item ID']).count().reset_index()\n",
    "count_df = count_df[['Item ID','Price']]\n",
    "count_df.rename(columns={'Price': 'Purchase Count'},inplace=True)\n",
    "sum_df= items_df.groupby(['Item ID']).sum().reset_index()\n",
    "sum_df = sum_df[['Item ID','Price']]\n",
    "sum_df.rename(columns={'Price': 'Total Purchase Value'},inplace=True)\n",
    "merged_df = no_dupes.merge(count_df,on='Item ID')\n",
    "merged_df = merged_df.merge(sum_df,on='Item ID')\n",
    "merged_df = merged_df.sort_values(by=['Purchase Count'],ascending=False)\n",
    "cleaned_data = merged_df.head(5).style.format({'Price':'${0:,.2f}','Total Purchase Value':'${0:,.2f}'})\n",
    "cleaned_data"
   ]
  },
  {
   "cell_type": "markdown",
   "metadata": {},
   "source": [
    "## Most Profitable Items"
   ]
  },
  {
   "cell_type": "markdown",
   "metadata": {},
   "source": [
    "* Sort the above table by total purchase value in descending order\n",
    "\n",
    "\n",
    "* Optional: give the displayed data cleaner formatting\n",
    "\n",
    "\n",
    "* Display a preview of the data frame\n",
    "\n"
   ]
  },
  {
   "cell_type": "code",
   "execution_count": 196,
   "metadata": {
    "scrolled": true
   },
   "outputs": [
    {
     "data": {
      "text/html": [
       "<style  type=\"text/css\" >\n",
       "</style><table id=\"T_78c29d92_c677_11eb_b629_8c8590a56886\" ><thead>    <tr>        <th class=\"blank level0\" ></th>        <th class=\"col_heading level0 col0\" >Item ID</th>        <th class=\"col_heading level0 col1\" >Item Name</th>        <th class=\"col_heading level0 col2\" >Price</th>        <th class=\"col_heading level0 col3\" >Purchase Count</th>        <th class=\"col_heading level0 col4\" >Total Purchase Value</th>    </tr></thead><tbody>\n",
       "                <tr>\n",
       "                        <th id=\"T_78c29d92_c677_11eb_b629_8c8590a56886level0_row0\" class=\"row_heading level0 row0\" >2</th>\n",
       "                        <td id=\"T_78c29d92_c677_11eb_b629_8c8590a56886row0_col0\" class=\"data row0 col0\" >92</td>\n",
       "                        <td id=\"T_78c29d92_c677_11eb_b629_8c8590a56886row0_col1\" class=\"data row0 col1\" >Final Critic</td>\n",
       "                        <td id=\"T_78c29d92_c677_11eb_b629_8c8590a56886row0_col2\" class=\"data row0 col2\" >$4.88</td>\n",
       "                        <td id=\"T_78c29d92_c677_11eb_b629_8c8590a56886row0_col3\" class=\"data row0 col3\" >13</td>\n",
       "                        <td id=\"T_78c29d92_c677_11eb_b629_8c8590a56886row0_col4\" class=\"data row0 col4\" >$59.99</td>\n",
       "            </tr>\n",
       "            <tr>\n",
       "                        <th id=\"T_78c29d92_c677_11eb_b629_8c8590a56886level0_row1\" class=\"row_heading level0 row1\" >24</th>\n",
       "                        <td id=\"T_78c29d92_c677_11eb_b629_8c8590a56886row1_col0\" class=\"data row1 col0\" >178</td>\n",
       "                        <td id=\"T_78c29d92_c677_11eb_b629_8c8590a56886row1_col1\" class=\"data row1 col1\" >Oathbreaker, Last Hope of the Breaking Storm</td>\n",
       "                        <td id=\"T_78c29d92_c677_11eb_b629_8c8590a56886row1_col2\" class=\"data row1 col2\" >$4.23</td>\n",
       "                        <td id=\"T_78c29d92_c677_11eb_b629_8c8590a56886row1_col3\" class=\"data row1 col3\" >12</td>\n",
       "                        <td id=\"T_78c29d92_c677_11eb_b629_8c8590a56886row1_col4\" class=\"data row1 col4\" >$50.76</td>\n",
       "            </tr>\n",
       "            <tr>\n",
       "                        <th id=\"T_78c29d92_c677_11eb_b629_8c8590a56886level0_row2\" class=\"row_heading level0 row2\" >17</th>\n",
       "                        <td id=\"T_78c29d92_c677_11eb_b629_8c8590a56886row2_col0\" class=\"data row2 col0\" >82</td>\n",
       "                        <td id=\"T_78c29d92_c677_11eb_b629_8c8590a56886row2_col1\" class=\"data row2 col1\" >Nirvana</td>\n",
       "                        <td id=\"T_78c29d92_c677_11eb_b629_8c8590a56886row2_col2\" class=\"data row2 col2\" >$4.90</td>\n",
       "                        <td id=\"T_78c29d92_c677_11eb_b629_8c8590a56886row2_col3\" class=\"data row2 col3\" >9</td>\n",
       "                        <td id=\"T_78c29d92_c677_11eb_b629_8c8590a56886row2_col4\" class=\"data row2 col4\" >$44.10</td>\n",
       "            </tr>\n",
       "            <tr>\n",
       "                        <th id=\"T_78c29d92_c677_11eb_b629_8c8590a56886level0_row3\" class=\"row_heading level0 row3\" >93</th>\n",
       "                        <td id=\"T_78c29d92_c677_11eb_b629_8c8590a56886row3_col0\" class=\"data row3 col0\" >145</td>\n",
       "                        <td id=\"T_78c29d92_c677_11eb_b629_8c8590a56886row3_col1\" class=\"data row3 col1\" >Fiery Glass Crusader</td>\n",
       "                        <td id=\"T_78c29d92_c677_11eb_b629_8c8590a56886row3_col2\" class=\"data row3 col2\" >$4.58</td>\n",
       "                        <td id=\"T_78c29d92_c677_11eb_b629_8c8590a56886row3_col3\" class=\"data row3 col3\" >9</td>\n",
       "                        <td id=\"T_78c29d92_c677_11eb_b629_8c8590a56886row3_col4\" class=\"data row3 col4\" >$41.22</td>\n",
       "            </tr>\n",
       "            <tr>\n",
       "                        <th id=\"T_78c29d92_c677_11eb_b629_8c8590a56886level0_row4\" class=\"row_heading level0 row4\" >111</th>\n",
       "                        <td id=\"T_78c29d92_c677_11eb_b629_8c8590a56886row4_col0\" class=\"data row4 col0\" >103</td>\n",
       "                        <td id=\"T_78c29d92_c677_11eb_b629_8c8590a56886row4_col1\" class=\"data row4 col1\" >Singed Scalpel</td>\n",
       "                        <td id=\"T_78c29d92_c677_11eb_b629_8c8590a56886row4_col2\" class=\"data row4 col2\" >$4.35</td>\n",
       "                        <td id=\"T_78c29d92_c677_11eb_b629_8c8590a56886row4_col3\" class=\"data row4 col3\" >8</td>\n",
       "                        <td id=\"T_78c29d92_c677_11eb_b629_8c8590a56886row4_col4\" class=\"data row4 col4\" >$34.80</td>\n",
       "            </tr>\n",
       "    </tbody></table>"
      ],
      "text/plain": [
       "<pandas.io.formats.style.Styler at 0x7fda1d3a1640>"
      ]
     },
     "execution_count": 196,
     "metadata": {},
     "output_type": "execute_result"
    }
   ],
   "source": [
    "items_df=purchase_data[['Item ID','Item Name','Price']]\n",
    "no_dupes = items_df.drop_duplicates(subset=['Item ID'])\n",
    "count_df= items_df.groupby(['Item ID']).count().reset_index()\n",
    "count_df = count_df[['Item ID','Price']]\n",
    "count_df.rename(columns={'Price': 'Purchase Count'},inplace=True)\n",
    "sum_df= items_df.groupby(['Item ID']).sum().reset_index()\n",
    "sum_df = sum_df[['Item ID','Price']]\n",
    "sum_df.rename(columns={'Price': 'Total Purchase Value'},inplace=True)\n",
    "merged_df = no_dupes.merge(count_df,on='Item ID')\n",
    "merged_df = merged_df.merge(sum_df,on='Item ID')\n",
    "merged_df = merged_df.sort_values(by=['Total Purchase Value'],ascending=False)\n",
    "cleaned_data = merged_df.head(5).style.format({'Price':'${0:,.2f}','Total Purchase Value':'${0:,.2f}'})\n",
    "cleaned_data"
   ]
  },
  {
   "cell_type": "code",
   "execution_count": null,
   "metadata": {},
   "outputs": [],
   "source": []
  }
 ],
 "metadata": {
  "anaconda-cloud": {},
  "kernel_info": {
   "name": "python3"
  },
  "kernelspec": {
   "display_name": "Python 3",
   "language": "python",
   "name": "python3"
  },
  "language_info": {
   "codemirror_mode": {
    "name": "ipython",
    "version": 3
   },
   "file_extension": ".py",
   "mimetype": "text/x-python",
   "name": "python",
   "nbconvert_exporter": "python",
   "pygments_lexer": "ipython3",
   "version": "3.8.5"
  },
  "latex_envs": {
   "LaTeX_envs_menu_present": true,
   "autoclose": false,
   "autocomplete": true,
   "bibliofile": "biblio.bib",
   "cite_by": "apalike",
   "current_citInitial": 1,
   "eqLabelWithNumbers": true,
   "eqNumInitial": 1,
   "hotkeys": {
    "equation": "Ctrl-E",
    "itemize": "Ctrl-I"
   },
   "labels_anchors": false,
   "latex_user_defs": false,
   "report_style_numbering": false,
   "user_envs_cfg": false
  },
  "nteract": {
   "version": "0.2.0"
  }
 },
 "nbformat": 4,
 "nbformat_minor": 2
}
